{
 "cells": [
  {
   "cell_type": "code",
   "execution_count": 35,
   "metadata": {},
   "outputs": [],
   "source": [
    "import psycopg2\n",
    "import pandas as pd\n",
    "import pymysql\n",
    "\n",
    "pd.set_option('display.max_rows', 500)\n",
    "pd.set_option('display.max_columns', 500)\n",
    "pd.set_option('display.width', 1000)"
   ]
  },
  {
   "cell_type": "code",
   "execution_count": 36,
   "metadata": {},
   "outputs": [],
   "source": [
    "connection = pymysql.connect(host='35.247.191.177',\n",
    "                             user='admin_mkt',\n",
    "                             password='4dminmkt',\n",
    "                             db='report')\n",
    "\n",
    "cursor = connection.cursor()\n",
    "query = \"\"\"\n",
    "select *\n",
    "from report.rpt_trans_oshop as rpt\n",
    "left join report.master_item as mi\n",
    "ON rpt.tro_plu = mi.plu\n",
    "where rpt.tro_date_order >= '2020-12-01'\n",
    "and rpt.tro_date_order <= '2020-12-31'\n",
    "\n",
    "\"\"\"\n",
    "# query = \"\"\"\n",
    "# select *\n",
    "# from master_item\n",
    "# \"\"\"\n",
    "\n",
    "results = pd.read_sql_query(query, connection)\n",
    "# results.to_csv(\"~/master_item_hahah.csv\", index=False)"
   ]
  },
  {
   "cell_type": "code",
   "execution_count": 38,
   "metadata": {},
   "outputs": [],
   "source": [
    "results = results[results['descp'].notnull()]"
   ]
  },
  {
   "cell_type": "code",
   "execution_count": 39,
   "metadata": {},
   "outputs": [
    {
     "data": {
      "text/plain": [
       "tro_no_order      descp                        \n",
       "O-201130-AGHDWYK  HOLISTICARE ESTER C TAB 30S      1\n",
       "O-201201-AGBBDBY  GARNIER SAKURA DAY CREAM 20ML    1\n",
       "                  PEPSODENT PG ECONOMY 120G        1\n",
       "                  SEDAAP MIE AYAM BAWANG 70G       1\n",
       "                  SEDAAP MIE GRG 5X90G             1\n",
       "                                                  ..\n",
       "O-201230-AGZZWYY  YOUVIT MULTIVIT DEWASA 28G       1\n",
       "O-201230-AGZZXHJ  BANGO KECAP MNS REF 550ML        1\n",
       "O-201230-AGZZXPC  KUSUKA KRIP SGK BARBEQUE 180G    1\n",
       "                  ROOT BEER BTL 250ML              1\n",
       "                  SAMPOERNA A MILD MRH [PB] 16     1\n",
       "Name: descp, Length: 407078, dtype: int64"
      ]
     },
     "execution_count": 39,
     "metadata": {},
     "output_type": "execute_result"
    }
   ],
   "source": [
    "results.groupby('tro_no_order')['descp'].value_counts()"
   ]
  },
  {
   "cell_type": "code",
   "execution_count": 74,
   "metadata": {},
   "outputs": [
    {
     "data": {
      "text/plain": [
       "CAMPINA CONCERTO MIDI STR 80ML     405\n",
       "LUWAK WHITE KOFFIE ORI PET220ML    404\n",
       "ABC CHOCOMALT COFEE PET 200ML      403\n",
       "MILKU STROBERI BTL 200ML           394\n",
       "MAMA LIME GREENTEA REF780ML        392\n",
       "FF UHT PF F.CREAM TP 900ML         391\n",
       "CAMPINA CONCERTO COOKIE CRM80ML    387\n",
       "OASIS AIR BKL GLN 19L              384\n",
       "SELECTION KAPAS MINI 35G           381\n",
       "RICHEESE WFR  NABATI 132/145G      381\n",
       "Name: descp, dtype: int64"
      ]
     },
     "execution_count": 74,
     "metadata": {},
     "output_type": "execute_result"
    }
   ],
   "source": [
    "results['descp'].value_counts()[130:140]"
   ]
  },
  {
   "cell_type": "code",
   "execution_count": null,
   "metadata": {},
   "outputs": [],
   "source": []
  },
  {
   "cell_type": "code",
   "execution_count": 72,
   "metadata": {},
   "outputs": [
    {
     "data": {
      "text/plain": [
       "LIFEBUOY BW T.PROTECT REF 250ML    456\n",
       "LIFEBUOY SHP STRONG&SHINY 340ML    117\n",
       "LIFEBUOY SHP A.DANDRUFF 340ML      111\n",
       "LIFEBUOY B.SOAP LEMON FRS4X110G     91\n",
       "LIFEBUOY B.SOAP MILD CARE 4X60G     79\n",
       "LIFEBUOY B.SOAP TOTAL 10 4X60G      77\n",
       "LIFEBUOY B.SOAP LEMON FRS75/85G     66\n",
       "LIFEBUOY SHP A.DANDRUFF 70ML        60\n",
       "LIFEBUOY B.SOAP MILD CARE4X110G     59\n",
       "LIFEBUOY BW T.PROTECT REF 450ML     56\n",
       "LIFEBUOY B.SOAP TOTAL 10 4X110G     49\n",
       "LIFEBUOY SHP A.DANDRUFF 170ML       49\n",
       "LIFEBUOY BW T.PROTECT BTL 100ML     49\n",
       "LIFEBUOY BW MILD CARE REF 450ML     43\n",
       "LIFEBUOY BW LEMON FRS REF450ML      40\n",
       "LIFEBUOY BW TOTAL10 REF 900ML       36\n",
       "LIFEBUOY HW TOTAL 10 REF180ML       33\n",
       "LIFEBUOY BW COOL FRESH REF450ML     33\n",
       "LIFEBUOY BW HABBATUS REF450ML       33\n",
       "LIFEBUOY BW YGHRTCARE REF450ML      32\n",
       "LIFEBUOY HW TOTAL 10 PUMP 200ML     30\n",
       "LIFEBUOY BW MILD CARE BTL 100ML     27\n",
       "LIFEBUOY B.SOAP MILD CARE 110G      26\n",
       "LIFEBUOY BW LEMON FRS REF900ML      26\n",
       "LIFEBUOY B.SOAP TOTAL 10 110G       24\n",
       "LIFEBUOY BW TOTAL 10 PUMP 500ML     23\n",
       "LIFEBUOY BW CHARCOAL REF 450ML      22\n",
       "LIFEBUOY SHP STRONG&SHINY 170ML     21\n",
       "LIFEBUOY SHP ANTI H.FALL 170ML      19\n",
       "LIFEBUOY B.SOAP KASTURI 110G        15\n",
       "LIFEBUOY HW MILD CARE REF180ML      15\n",
       "LIFEBUOY HS GEL 50ML                11\n",
       "Name: descp, dtype: int64"
      ]
     },
     "execution_count": 72,
     "metadata": {},
     "output_type": "execute_result"
    }
   ],
   "source": [
    "results[results['descp'].str.contains('LIFEBUOY', case=False)]['descp'].value_counts()"
   ]
  },
  {
   "cell_type": "code",
   "execution_count": null,
   "metadata": {},
   "outputs": [],
   "source": []
  }
 ],
 "metadata": {
  "kernelspec": {
   "display_name": "Python 3",
   "language": "python",
   "name": "python3"
  },
  "language_info": {
   "codemirror_mode": {
    "name": "ipython",
    "version": 3
   },
   "file_extension": ".py",
   "mimetype": "text/x-python",
   "name": "python",
   "nbconvert_exporter": "python",
   "pygments_lexer": "ipython3",
   "version": "3.8.5"
  }
 },
 "nbformat": 4,
 "nbformat_minor": 4
}
