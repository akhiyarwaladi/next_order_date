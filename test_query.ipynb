{
 "cells": [
  {
   "cell_type": "code",
   "execution_count": 1,
   "metadata": {},
   "outputs": [],
   "source": [
    "import pandas as pd\n",
    "import numpy as np\n",
    "from datetime import datetime\n",
    "\n",
    "import pymongo\n",
    "import cx_Oracle\n",
    "\n",
    "\n",
    "pd.set_option('display.max_rows', 500)\n",
    "pd.set_option('display.max_columns', 500)\n",
    "pd.set_option('display.width', 1000)\n",
    "pd.set_option('display.max_colwidth', None)"
   ]
  },
  {
   "cell_type": "code",
   "execution_count": 2,
   "metadata": {},
   "outputs": [
    {
     "name": "stdout",
     "output_type": "stream",
     "text": [
      "['member_item_seq']\n"
     ]
    }
   ],
   "source": [
    "conn_str = u'report/justd0it@10.234.152.61:1521/alfabi'\n",
    "connection = cx_Oracle.connect(conn_str)\n",
    "\n",
    "conn_mongo = pymongo.MongoClient\\\n",
    "        (\"mongodb://127.0.0.1:27017/seq_trans\")\n",
    "mydb = conn_mongo[\"seq_trans\"]\n",
    "print(mydb.list_collection_names())\n",
    "\n",
    "mycol = mydb['member_item_seq']"
   ]
  },
  {
   "cell_type": "code",
   "execution_count": 3,
   "metadata": {},
   "outputs": [],
   "source": [
    "q_test = \"\"\"\n",
    "SELECT TR_MEMBERS, TR_PLU_PCS, TR_DATE, TR_QTY, LOG_PROMO\n",
    "FROM RPT_TRANS rt \n",
    "WHERE tr_date between '11nov20' AND '11nov20'\n",
    "AND dw_branch_code = 'TZ01'\n",
    "AND TR_MEMBERS != 'N'\n",
    "and NVL(rt.tr_members,'N') not like '%#%'\n",
    "and NVL(rt.tr_members,'N') not in (select mcp_no_kartu from report.rpt_ms_ssp)\n",
    "and NVL(rt.tr_type,'N') not like '%R%'\n",
    "and NVL(rt.tr_type,'-') not like '%X%'\n",
    "and NVL(rt.tr_type,'-') not like '%V%'\n",
    "and NVL(rt.tr_flag_rpt,'N') not in ('S','B','X')\n",
    "and NVL(rt.tr_type, '-') not in ('S', 'B')\n",
    "and length(rt.tr_members) in (10,12,16)\n",
    "\"\"\"\n",
    "\n",
    "\n",
    "df_trans_hist = pd.read_sql_query(q_test, connection)   "
   ]
  },
  {
   "cell_type": "code",
   "execution_count": 4,
   "metadata": {},
   "outputs": [
    {
     "data": {
      "text/html": [
       "<div>\n",
       "<style scoped>\n",
       "    .dataframe tbody tr th:only-of-type {\n",
       "        vertical-align: middle;\n",
       "    }\n",
       "\n",
       "    .dataframe tbody tr th {\n",
       "        vertical-align: top;\n",
       "    }\n",
       "\n",
       "    .dataframe thead th {\n",
       "        text-align: right;\n",
       "    }\n",
       "</style>\n",
       "<table border=\"1\" class=\"dataframe\">\n",
       "  <thead>\n",
       "    <tr style=\"text-align: right;\">\n",
       "      <th></th>\n",
       "      <th>TR_MEMBERS</th>\n",
       "      <th>TR_PLU_PCS</th>\n",
       "      <th>TR_DATE</th>\n",
       "      <th>TR_QTY</th>\n",
       "      <th>LOG_PROMO</th>\n",
       "    </tr>\n",
       "  </thead>\n",
       "  <tbody>\n",
       "    <tr>\n",
       "      <th>0</th>\n",
       "      <td>9990010552953647</td>\n",
       "      <td>103001</td>\n",
       "      <td>2020-11-11</td>\n",
       "      <td>1.0</td>\n",
       "      <td>None</td>\n",
       "    </tr>\n",
       "    <tr>\n",
       "      <th>1</th>\n",
       "      <td>9990010552953647</td>\n",
       "      <td>156210</td>\n",
       "      <td>2020-11-11</td>\n",
       "      <td>1.0</td>\n",
       "      <td>T-J20-4422|5900</td>\n",
       "    </tr>\n",
       "    <tr>\n",
       "      <th>2</th>\n",
       "      <td>9990010552953647</td>\n",
       "      <td>164338</td>\n",
       "      <td>2020-11-11</td>\n",
       "      <td>1.0</td>\n",
       "      <td>None</td>\n",
       "    </tr>\n",
       "    <tr>\n",
       "      <th>3</th>\n",
       "      <td>9990010552953647</td>\n",
       "      <td>401181</td>\n",
       "      <td>2020-11-11</td>\n",
       "      <td>1.0</td>\n",
       "      <td>None</td>\n",
       "    </tr>\n",
       "    <tr>\n",
       "      <th>4</th>\n",
       "      <td>9990010552953647</td>\n",
       "      <td>403990</td>\n",
       "      <td>2020-11-11</td>\n",
       "      <td>2.0</td>\n",
       "      <td>None</td>\n",
       "    </tr>\n",
       "  </tbody>\n",
       "</table>\n",
       "</div>"
      ],
      "text/plain": [
       "         TR_MEMBERS  TR_PLU_PCS    TR_DATE  TR_QTY        LOG_PROMO\n",
       "0  9990010552953647      103001 2020-11-11     1.0             None\n",
       "1  9990010552953647      156210 2020-11-11     1.0  T-J20-4422|5900\n",
       "2  9990010552953647      164338 2020-11-11     1.0             None\n",
       "3  9990010552953647      401181 2020-11-11     1.0             None\n",
       "4  9990010552953647      403990 2020-11-11     2.0             None"
      ]
     },
     "execution_count": 4,
     "metadata": {},
     "output_type": "execute_result"
    }
   ],
   "source": [
    "df_trans_hist.head()"
   ]
  },
  {
   "cell_type": "code",
   "execution_count": 5,
   "metadata": {},
   "outputs": [],
   "source": [
    "df_trans_hist['TR_DATE'] = df_trans_hist.TR_DATE.values.astype(np.int64) // 10 ** 9\n",
    "\n",
    "df_trans_hist['LOG_PROMO'] = df_trans_hist['LOG_PROMO'].fillna('-')\n",
    "df_trans_hist = df_trans_hist.groupby(['TR_MEMBERS','TR_PLU_PCS','TR_DATE'])\\\n",
    "                    .agg({'TR_QTY':'sum','LOG_PROMO':' '.join}).reset_index()\n",
    "df_trans_hist['TR_QTY'] = df_trans_hist['TR_QTY'].astype('int')\n",
    "# df_trans_hist['LOG_PROMO_BOOL'] = df_trans_hist['LOG_PROMO']\\\n",
    "#                     .apply(lambda x: 'N' if x.startswith('-') else 'P')\n",
    "\n",
    "df_trans_hist['tr_date_count'] = list(zip(df_trans_hist.TR_QTY, df_trans_hist.LOG_PROMO))\n",
    "\n",
    "df_trans_hist['$set'] = pd.Series([{'TRF_DATE.{}'.format(df_trans_hist['TR_DATE'][i]):(df_trans_hist['tr_date_count'][i])}\\\n",
    "                          for i in range(len(df_trans_hist))])"
   ]
  },
  {
   "cell_type": "code",
   "execution_count": 6,
   "metadata": {},
   "outputs": [],
   "source": [
    "# df_trans_hist['set_date'] = 'TRF_DATE.' + df_trans_hist['TR_DATE'].astype(str)"
   ]
  },
  {
   "cell_type": "code",
   "execution_count": 7,
   "metadata": {},
   "outputs": [],
   "source": [
    "# df_trans_hist['$set_test'] = pd.Series(df_trans_hist.tr_date_count.values,index=df_trans_hist.set_date).to_dict()"
   ]
  },
  {
   "cell_type": "code",
   "execution_count": 8,
   "metadata": {},
   "outputs": [
    {
     "data": {
      "text/html": [
       "<div>\n",
       "<style scoped>\n",
       "    .dataframe tbody tr th:only-of-type {\n",
       "        vertical-align: middle;\n",
       "    }\n",
       "\n",
       "    .dataframe tbody tr th {\n",
       "        vertical-align: top;\n",
       "    }\n",
       "\n",
       "    .dataframe thead th {\n",
       "        text-align: right;\n",
       "    }\n",
       "</style>\n",
       "<table border=\"1\" class=\"dataframe\">\n",
       "  <thead>\n",
       "    <tr style=\"text-align: right;\">\n",
       "      <th></th>\n",
       "      <th>TR_MEMBERS</th>\n",
       "      <th>TR_PLU_PCS</th>\n",
       "      <th>TR_DATE</th>\n",
       "      <th>TR_QTY</th>\n",
       "      <th>LOG_PROMO</th>\n",
       "      <th>tr_date_count</th>\n",
       "      <th>$set</th>\n",
       "    </tr>\n",
       "  </thead>\n",
       "  <tbody>\n",
       "    <tr>\n",
       "      <th>0</th>\n",
       "      <td>000105148434</td>\n",
       "      <td>101643</td>\n",
       "      <td>1605052800</td>\n",
       "      <td>1</td>\n",
       "      <td>T-J20-2806|700</td>\n",
       "      <td>(1, T-J20-2806|700)</td>\n",
       "      <td>{'TRF_DATE.1605052800': (1, 'T-J20-2806|700')}</td>\n",
       "    </tr>\n",
       "    <tr>\n",
       "      <th>1</th>\n",
       "      <td>000105148434</td>\n",
       "      <td>103001</td>\n",
       "      <td>1605052800</td>\n",
       "      <td>1</td>\n",
       "      <td>-</td>\n",
       "      <td>(1, -)</td>\n",
       "      <td>{'TRF_DATE.1605052800': (1, '-')}</td>\n",
       "    </tr>\n",
       "    <tr>\n",
       "      <th>2</th>\n",
       "      <td>000105148434</td>\n",
       "      <td>110127</td>\n",
       "      <td>1605052800</td>\n",
       "      <td>1</td>\n",
       "      <td>T-K20-1442|8200</td>\n",
       "      <td>(1, T-K20-1442|8200)</td>\n",
       "      <td>{'TRF_DATE.1605052800': (1, 'T-K20-1442|8200')}</td>\n",
       "    </tr>\n",
       "    <tr>\n",
       "      <th>3</th>\n",
       "      <td>000105148434</td>\n",
       "      <td>121637</td>\n",
       "      <td>1605052800</td>\n",
       "      <td>2</td>\n",
       "      <td>T-J20-3268|1100</td>\n",
       "      <td>(2, T-J20-3268|1100)</td>\n",
       "      <td>{'TRF_DATE.1605052800': (2, 'T-J20-3268|1100')}</td>\n",
       "    </tr>\n",
       "    <tr>\n",
       "      <th>4</th>\n",
       "      <td>000105148434</td>\n",
       "      <td>320383</td>\n",
       "      <td>1605052800</td>\n",
       "      <td>1</td>\n",
       "      <td>-</td>\n",
       "      <td>(1, -)</td>\n",
       "      <td>{'TRF_DATE.1605052800': (1, '-')}</td>\n",
       "    </tr>\n",
       "  </tbody>\n",
       "</table>\n",
       "</div>"
      ],
      "text/plain": [
       "     TR_MEMBERS  TR_PLU_PCS     TR_DATE  TR_QTY        LOG_PROMO         tr_date_count                                             $set\n",
       "0  000105148434      101643  1605052800       1   T-J20-2806|700   (1, T-J20-2806|700)   {'TRF_DATE.1605052800': (1, 'T-J20-2806|700')}\n",
       "1  000105148434      103001  1605052800       1                -                (1, -)                {'TRF_DATE.1605052800': (1, '-')}\n",
       "2  000105148434      110127  1605052800       1  T-K20-1442|8200  (1, T-K20-1442|8200)  {'TRF_DATE.1605052800': (1, 'T-K20-1442|8200')}\n",
       "3  000105148434      121637  1605052800       2  T-J20-3268|1100  (2, T-J20-3268|1100)  {'TRF_DATE.1605052800': (2, 'T-J20-3268|1100')}\n",
       "4  000105148434      320383  1605052800       1                -                (1, -)                {'TRF_DATE.1605052800': (1, '-')}"
      ]
     },
     "execution_count": 8,
     "metadata": {},
     "output_type": "execute_result"
    }
   ],
   "source": [
    "df_trans_hist.head()"
   ]
  }
 ],
 "metadata": {
  "kernelspec": {
   "display_name": "Python 3",
   "language": "python",
   "name": "python3"
  },
  "language_info": {
   "codemirror_mode": {
    "name": "ipython",
    "version": 3
   },
   "file_extension": ".py",
   "mimetype": "text/x-python",
   "name": "python",
   "nbconvert_exporter": "python",
   "pygments_lexer": "ipython3",
   "version": "3.8.5"
  }
 },
 "nbformat": 4,
 "nbformat_minor": 4
}
