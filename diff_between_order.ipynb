{
 "cells": [
  {
   "cell_type": "code",
   "execution_count": 1,
   "metadata": {},
   "outputs": [],
   "source": [
    "import pandas as pd\n",
    "import numpy as np\n",
    "from datetime import datetime\n",
    "\n",
    "import pymongo\n",
    "import cx_Oracle\n",
    "\n",
    "\n",
    "pd.set_option('display.max_rows', 500)\n",
    "pd.set_option('display.max_columns', 500)\n",
    "pd.set_option('display.width', 1000)\n",
    "pd.set_option('display.max_colwidth', None)"
   ]
  },
  {
   "cell_type": "code",
   "execution_count": 2,
   "metadata": {},
   "outputs": [],
   "source": [
    "# df_sgm = pd.read_csv('df_trans_user_item_date.csv', sep='\\t', dtype='object')\n",
    "# df_item = pd.read_csv('MASTER_ITEM_202012121853.csv', dtype='object')\n",
    "# df_sgm['TR_DATE'] = df_sgm['TR_DATE'].map(lambda x: eval(x))\n",
    "# df_sgm['TR_PLU'] = df_sgm['TR_PLU'].apply(lambda x: x[0:-1])"
   ]
  },
  {
   "cell_type": "code",
   "execution_count": 3,
   "metadata": {},
   "outputs": [
    {
     "name": "stdout",
     "output_type": "stream",
     "text": [
      "['member_item_seq']\n"
     ]
    }
   ],
   "source": [
    "conn_str = u'report/justd0it@10.234.152.61:1521/alfabi'\n",
    "connection = cx_Oracle.connect(conn_str)\n",
    "\n",
    "conn_mongo = pymongo.MongoClient\\\n",
    "        (\"mongodb://127.0.0.1:27017/seq_trans\")\n",
    "mydb = conn_mongo[\"seq_trans\"]\n",
    "print(mydb.list_collection_names())\n",
    "\n",
    "mycol = mydb['member_item_seq']"
   ]
  },
  {
   "cell_type": "code",
   "execution_count": 4,
   "metadata": {},
   "outputs": [],
   "source": [
    "# q_plu = \"\"\"\n",
    "# SELECT DISTINCT MPA_PLU, MPA_DESC, MPA_DESC_SUBCAT FROM MASTER_PLU_ALFAGIFT mpa\n",
    "# where lower(mpa.MPA_DESC) like 'sgm eksplor%'\n",
    "# \"\"\"\n",
    "\n",
    "# df_plu = pd.read_sql_query(q_plu, connection)     \n",
    "# li_plu = df_plu['MPA_PLU']\n",
    "\n",
    "\n",
    "# df_all = []\n",
    "# for plu in li_plu[0:20]:\n",
    "#     df = pd.DataFrame(mycol.find({'TR_PLU_PCS':plu}))\n",
    "#     df_all.append(df)\n",
    "\n",
    "# df_seq_1 = pd.concat(df_all)\n",
    "# df_seq_1.head()\n",
    "df_seq_1 = pd.DataFrame()"
   ]
  },
  {
   "cell_type": "code",
   "execution_count": null,
   "metadata": {},
   "outputs": [],
   "source": [
    "q_plu = \"\"\"\n",
    "SELECT DISTINCT MPA_PLU, MPA_DESC, MPA_DESC_SUBCAT FROM MASTER_PLU_ALFAGIFT mpa\n",
    "where lower(mpa.MPA_DESC) like 'sgm eksplor%'\n",
    "or lower(mpa.MPA_DESC) like 'anlene%'\n",
    "or lower(mpa.MPA_DESC) like 'dancow%'\n",
    "or lower(mpa.MPA_DESC) like 'bebelac%'\n",
    "or lower(mpa.MPA_DESC) like 'lactogrow%'\n",
    "or lower(mpa.MPA_DESC) like 'ff baby%'\n",
    "or lower(mpa.MPA_DESC) like 'pepsodent pg economy%'\n",
    "\"\"\"\n",
    "\n",
    "df_plu = pd.read_sql_query(q_plu, connection)     \n",
    "li_plu = df_plu['MPA_PLU']\n",
    "\n",
    "\n",
    "df_all = []\n",
    "for plu in li_plu:\n",
    "    df = pd.DataFrame(mycol.find({'TR_PLU_PCS':plu}))\n",
    "    df_all.append(df)\n",
    "\n",
    "df_seq_2 = pd.concat(df_all)\n",
    "df_seq_2.head()"
   ]
  },
  {
   "cell_type": "code",
   "execution_count": null,
   "metadata": {},
   "outputs": [],
   "source": [
    "df_seq = pd.concat([df_seq_1, df_seq_2]).reset_index(drop=True)"
   ]
  },
  {
   "cell_type": "code",
   "execution_count": null,
   "metadata": {},
   "outputs": [],
   "source": [
    "q_nas = \"\"\"\n",
    "SELECT ITEM_N, DESCP, UKURAN, PANJANG, LEBAR, TINGGI, UOM FROM MASTER_NAS_M mnm \n",
    "\"\"\"\n",
    "\n",
    "df_nas = pd.read_sql_query(q_nas, connection)\n",
    "df_nas.head()"
   ]
  },
  {
   "cell_type": "code",
   "execution_count": null,
   "metadata": {},
   "outputs": [],
   "source": [
    "df = pd.merge(df_seq, df_nas, left_on='TR_PLU_PCS', right_on='ITEM_N')[list(df_seq) + ['DESCP','UKURAN']]\n",
    "df = df[df['TRX_DATE'].notnull()]\n",
    "\n",
    "min_freq = 6\n",
    "df_hist = df[df['TRX_DATE'].apply(lambda x: len(x)) >= min_freq]"
   ]
  },
  {
   "cell_type": "code",
   "execution_count": null,
   "metadata": {},
   "outputs": [],
   "source": [
    "df_hist.head()"
   ]
  },
  {
   "cell_type": "code",
   "execution_count": null,
   "metadata": {},
   "outputs": [],
   "source": [
    "# set_time = {'1608163200': 1, '1607904000': 1, '1607040000': 1, '1606176000': 1, '1605916800': 1, '1605657600': 1, '1605225600': 1, '1602288000': 1}\n",
    "# set_time = sorted(set_time.items())\n",
    "\n",
    "\n",
    "# print(set_time)"
   ]
  },
  {
   "cell_type": "code",
   "execution_count": null,
   "metadata": {},
   "outputs": [],
   "source": [
    "def cal_feature(set_timestamp):\n",
    "\n",
    "    set_timestamp = sorted(set_timestamp.items())\n",
    "    last_order = int(set_timestamp[-1][0])\n",
    "    \n",
    "    li_seq = []\n",
    "    qty_seq = []\n",
    "    for idx in range(0, len(set_timestamp)-1, 1):\n",
    "\n",
    "        diff = int(set_timestamp[idx+1][0]) - int(set_timestamp[idx][0])\n",
    "        diff_day = int((diff / 3600) / 24)\n",
    "        li_seq.append(diff_day)\n",
    "        \n",
    "    qty_seq = [i[1] for i in set_timestamp][-1*(min_freq):-1]\n",
    "\n",
    "    li_seq = li_seq[-1*(min_freq-1):]\n",
    "    # max diff day\n",
    "    seq_max = np.max(li_seq)\n",
    "    # min diff day\n",
    "    seq_min = np.min(li_seq)\n",
    "    # day since\n",
    "    seq_since = li_seq[-2]\n",
    "    # mean\n",
    "    seq_mean = round(np.mean(li_seq),2)\n",
    "    # mean_qty\n",
    "    seq_mean_qty = round(np.mean([li_seq[i]/qty_seq[i] for i in range(len(li_seq))]),2)\n",
    "    # variance\n",
    "    seq_var = round(np.var(li_seq),2)\n",
    "\n",
    "    ## appending\n",
    "    li_seq.append(seq_max)\n",
    "    li_seq.append(seq_min)\n",
    "    li_seq.append(seq_since)\n",
    "    li_seq.append(seq_mean)\n",
    "    li_seq.append(seq_var)\n",
    "    \n",
    "    li_seq.extend(qty_seq)\n",
    "    li_seq.append(seq_mean_qty)\n",
    "\n",
    "\n",
    "    return li_seq, last_order"
   ]
  },
  {
   "cell_type": "code",
   "execution_count": null,
   "metadata": {},
   "outputs": [],
   "source": [
    "df_hist['tr_date_seq'], df_hist['last_ord1er'] = zip(*df_hist['TRX_DATE'].apply(cal_feature))"
   ]
  },
  {
   "cell_type": "code",
   "execution_count": null,
   "metadata": {},
   "outputs": [],
   "source": [
    "#col_feature = ['t_5', 't_4', 't_3', 't_2', 't_1', 'max', 'min', 'since', 'mean', 'variance', 'q_5', 'q_4', 'q_3', 'q_2', 'q_1', 'mean_qty']\n",
    "col_feature = ['t_'+ str(i) for i in range((min_freq-1),0,-1)] + \\\n",
    "                ['max', 'min', 'since', 'mean', 'variance'] + \\\n",
    "                ['q_'+ str(i) for i in range((min_freq-1),0,-1)] + ['mean_qty']\n",
    "train = pd.DataFrame(df_hist.tr_date_seq.tolist(), index=df_hist.index, columns=col_feature)\n",
    "\n",
    "# X = train.drop('t_0', 1)\n",
    "# Y = train['t_0']\n",
    "\n",
    "# from sklearn.model_selection import train_test_split\n",
    "# X_train, X_test, y_train, y_test = train_test_split(X, Y, test_size=0.3)"
   ]
  },
  {
   "cell_type": "code",
   "execution_count": null,
   "metadata": {},
   "outputs": [],
   "source": [
    "train.head()"
   ]
  },
  {
   "cell_type": "code",
   "execution_count": null,
   "metadata": {},
   "outputs": [],
   "source": []
  },
  {
   "cell_type": "code",
   "execution_count": null,
   "metadata": {},
   "outputs": [],
   "source": []
  },
  {
   "cell_type": "markdown",
   "metadata": {},
   "source": [
    "### Compare time consuming in different netto\n",
    "> \n",
    "* first we user with less variance, we assume user buy based on their consumption and less affected by promotion or random purchase date\n",
    "* age might be affect consumption, cause more mature, amount of consumption should be decreased by parent"
   ]
  },
  {
   "cell_type": "code",
   "execution_count": null,
   "metadata": {},
   "outputs": [],
   "source": [
    "# with open('watchlist_item.txt') as f:\n",
    "#     watchlist = f.read().splitlines()\n",
    "#     df_watchlist = pd.DataFrame({'DESCP':watchlist})"
   ]
  },
  {
   "cell_type": "code",
   "execution_count": null,
   "metadata": {},
   "outputs": [],
   "source": [
    "train_descp = pd.concat([train,df_hist], 1)[col_feature + ['TR_MEMBERS', 'TR_PLU_PCS', 'DESCP', 'TRX_DATE', 'UKURAN']]\n",
    "train_descp = pd.merge(train_descp, df_plu[['MPA_PLU', 'MPA_DESC_SUBCAT']], left_on='TR_PLU_PCS', right_on='MPA_PLU', how='left')\n",
    "train_descp = train_descp[train_descp['UKURAN'].notnull()]\n",
    "train_descp['UKURAN'] = train_descp['UKURAN'].astype(int)"
   ]
  },
  {
   "cell_type": "code",
   "execution_count": null,
   "metadata": {},
   "outputs": [],
   "source": [
    "# train_descp.groupby('UKURAN').agg({'mean_qty':'mean'})\n",
    "\n",
    "# train_descp_cond = train_descp[train_descp['variance'] < 100]\n",
    "# train_descp_cond.groupby('UKURAN').agg({'mean_qty':'mean'})"
   ]
  },
  {
   "cell_type": "code",
   "execution_count": null,
   "metadata": {},
   "outputs": [],
   "source": []
  },
  {
   "cell_type": "code",
   "execution_count": null,
   "metadata": {},
   "outputs": [],
   "source": [
    "train_descp['DESCP_TYPE'] = train_descp['DESCP'].str.split(' ').str[0:-3].str.join(' ')"
   ]
  },
  {
   "cell_type": "code",
   "execution_count": null,
   "metadata": {},
   "outputs": [],
   "source": [
    "train_descp.groupby(['MPA_DESC_SUBCAT','DESCP_TYPE','UKURAN']).agg({'mean_qty':'mean'})"
   ]
  },
  {
   "cell_type": "code",
   "execution_count": null,
   "metadata": {},
   "outputs": [],
   "source": [
    "train_descp_cond = train_descp[train_descp['variance'] < 80]\n",
    "train_descp_cond.groupby(['MPA_DESC_SUBCAT','DESCP_TYPE','UKURAN']).agg({'mean_qty':'mean'})"
   ]
  },
  {
   "cell_type": "code",
   "execution_count": null,
   "metadata": {},
   "outputs": [],
   "source": []
  },
  {
   "cell_type": "code",
   "execution_count": null,
   "metadata": {},
   "outputs": [],
   "source": []
  },
  {
   "cell_type": "code",
   "execution_count": null,
   "metadata": {},
   "outputs": [],
   "source": []
  },
  {
   "cell_type": "code",
   "execution_count": null,
   "metadata": {},
   "outputs": [],
   "source": []
  },
  {
   "cell_type": "code",
   "execution_count": null,
   "metadata": {},
   "outputs": [],
   "source": []
  }
 ],
 "metadata": {
  "kernelspec": {
   "display_name": "Python 3",
   "language": "python",
   "name": "python3"
  },
  "language_info": {
   "codemirror_mode": {
    "name": "ipython",
    "version": 3
   },
   "file_extension": ".py",
   "mimetype": "text/x-python",
   "name": "python",
   "nbconvert_exporter": "python",
   "pygments_lexer": "ipython3",
   "version": "3.8.5"
  }
 },
 "nbformat": 4,
 "nbformat_minor": 2
}
