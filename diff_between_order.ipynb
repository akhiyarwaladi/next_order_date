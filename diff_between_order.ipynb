{
 "cells": [
  {
   "cell_type": "code",
   "execution_count": 1,
   "metadata": {},
   "outputs": [],
   "source": [
    "import pandas as pd\n",
    "import numpy as np\n",
    "from datetime import datetime\n",
    "\n",
    "import pymongo\n",
    "import cx_Oracle\n",
    "\n",
    "\n",
    "pd.set_option('display.max_rows', 500)\n",
    "pd.set_option('display.max_columns', 500)\n",
    "pd.set_option('display.width', 1000)\n",
    "pd.set_option('display.max_colwidth', None)"
   ]
  },
  {
   "cell_type": "code",
   "execution_count": 2,
   "metadata": {},
   "outputs": [],
   "source": [
    "# df_sgm = pd.read_csv('df_trans_user_item_date.csv', sep='\\t', dtype='object')\n",
    "# df_item = pd.read_csv('MASTER_ITEM_202012121853.csv', dtype='object')\n",
    "# df_sgm['TR_DATE'] = df_sgm['TR_DATE'].map(lambda x: eval(x))\n",
    "# df_sgm['TR_PLU'] = df_sgm['TR_PLU'].apply(lambda x: x[0:-1])"
   ]
  },
  {
   "cell_type": "code",
   "execution_count": 3,
   "metadata": {},
   "outputs": [
    {
     "name": "stdout",
     "output_type": "stream",
     "text": [
      "['member_item_seq']\n"
     ]
    }
   ],
   "source": [
    "conn_str = u'report/justd0it@10.234.152.61:1521/alfabi'\n",
    "connection = cx_Oracle.connect(conn_str)\n",
    "\n",
    "conn_mongo = pymongo.MongoClient\\\n",
    "        (\"mongodb://127.0.0.1:27017/seq_trans\")\n",
    "mydb = conn_mongo[\"seq_trans\"]\n",
    "print(mydb.list_collection_names())\n",
    "\n",
    "mycol = mydb['member_item_seq']"
   ]
  },
  {
   "cell_type": "code",
   "execution_count": 4,
   "metadata": {},
   "outputs": [
    {
     "data": {
      "text/html": [
       "<div>\n",
       "<style scoped>\n",
       "    .dataframe tbody tr th:only-of-type {\n",
       "        vertical-align: middle;\n",
       "    }\n",
       "\n",
       "    .dataframe tbody tr th {\n",
       "        vertical-align: top;\n",
       "    }\n",
       "\n",
       "    .dataframe thead th {\n",
       "        text-align: right;\n",
       "    }\n",
       "</style>\n",
       "<table border=\"1\" class=\"dataframe\">\n",
       "  <thead>\n",
       "    <tr style=\"text-align: right;\">\n",
       "      <th></th>\n",
       "      <th>_id</th>\n",
       "      <th>TR_MEMBERS</th>\n",
       "      <th>TR_PLU_PCS</th>\n",
       "      <th>TR_DATE</th>\n",
       "      <th>updated_at</th>\n",
       "      <th>TRX_DATE</th>\n",
       "      <th>last_order_date</th>\n",
       "      <th>next_order_date</th>\n",
       "    </tr>\n",
       "  </thead>\n",
       "  <tbody>\n",
       "    <tr>\n",
       "      <th>0</th>\n",
       "      <td>5fd90a51b8f8002aaaba12f1</td>\n",
       "      <td>9990013045411848</td>\n",
       "      <td>120768</td>\n",
       "      <td>{'1607904000': 5}</td>\n",
       "      <td>2020-12-20 20:31:05.342</td>\n",
       "      <td>{'1607904000': 1}</td>\n",
       "      <td>NaT</td>\n",
       "      <td>NaT</td>\n",
       "    </tr>\n",
       "    <tr>\n",
       "      <th>1</th>\n",
       "      <td>5fd90a51b8f8002aaaba36a1</td>\n",
       "      <td>9990010296470971</td>\n",
       "      <td>120768</td>\n",
       "      <td>{'1607904000': 5, '1605571200': 2}</td>\n",
       "      <td>2020-12-21 00:03:15.446</td>\n",
       "      <td>{'1607904000': 1, '1605571200': 1}</td>\n",
       "      <td>NaT</td>\n",
       "      <td>NaT</td>\n",
       "    </tr>\n",
       "    <tr>\n",
       "      <th>2</th>\n",
       "      <td>5fd90a52b8f8002aaaba8f23</td>\n",
       "      <td>9990012980982737</td>\n",
       "      <td>120768</td>\n",
       "      <td>{'1607904000': 5}</td>\n",
       "      <td>2020-12-20 20:32:06.915</td>\n",
       "      <td>{'1607904000': 1}</td>\n",
       "      <td>NaT</td>\n",
       "      <td>NaT</td>\n",
       "    </tr>\n",
       "    <tr>\n",
       "      <th>3</th>\n",
       "      <td>5fd90a53b8f8002aaabab9df</td>\n",
       "      <td>9990012808033100</td>\n",
       "      <td>120768</td>\n",
       "      <td>{'1607904000': 5}</td>\n",
       "      <td>2020-12-20 20:32:24.500</td>\n",
       "      <td>{'1607904000': 1}</td>\n",
       "      <td>NaT</td>\n",
       "      <td>NaT</td>\n",
       "    </tr>\n",
       "    <tr>\n",
       "      <th>4</th>\n",
       "      <td>5fd90a54b8f8002aaabb0e2a</td>\n",
       "      <td>9990012273495228</td>\n",
       "      <td>120768</td>\n",
       "      <td>{'1607904000': 5, '1607040000': 2, '1606176000': 2, '1605916800': 2, '1605657600': 2, '1605225600': 2, '1602288000': 1, '1608163200': 1}</td>\n",
       "      <td>2020-12-21 06:27:33.763</td>\n",
       "      <td>{'1608163200': 1, '1607904000': 1, '1607040000': 1, '1606176000': 1, '1605916800': 1, '1605657600': 1, '1605225600': 1, '1602288000': 1}</td>\n",
       "      <td>2020-12-14</td>\n",
       "      <td>2020-12-15</td>\n",
       "    </tr>\n",
       "  </tbody>\n",
       "</table>\n",
       "</div>"
      ],
      "text/plain": [
       "                        _id        TR_MEMBERS  TR_PLU_PCS                                                                                                                                   TR_DATE              updated_at                                                                                                                                  TRX_DATE last_order_date next_order_date\n",
       "0  5fd90a51b8f8002aaaba12f1  9990013045411848      120768                                                                                                                         {'1607904000': 5} 2020-12-20 20:31:05.342                                                                                                                         {'1607904000': 1}             NaT             NaT\n",
       "1  5fd90a51b8f8002aaaba36a1  9990010296470971      120768                                                                                                        {'1607904000': 5, '1605571200': 2} 2020-12-21 00:03:15.446                                                                                                        {'1607904000': 1, '1605571200': 1}             NaT             NaT\n",
       "2  5fd90a52b8f8002aaaba8f23  9990012980982737      120768                                                                                                                         {'1607904000': 5} 2020-12-20 20:32:06.915                                                                                                                         {'1607904000': 1}             NaT             NaT\n",
       "3  5fd90a53b8f8002aaabab9df  9990012808033100      120768                                                                                                                         {'1607904000': 5} 2020-12-20 20:32:24.500                                                                                                                         {'1607904000': 1}             NaT             NaT\n",
       "4  5fd90a54b8f8002aaabb0e2a  9990012273495228      120768  {'1607904000': 5, '1607040000': 2, '1606176000': 2, '1605916800': 2, '1605657600': 2, '1605225600': 2, '1602288000': 1, '1608163200': 1} 2020-12-21 06:27:33.763  {'1608163200': 1, '1607904000': 1, '1607040000': 1, '1606176000': 1, '1605916800': 1, '1605657600': 1, '1605225600': 1, '1602288000': 1}      2020-12-14      2020-12-15"
      ]
     },
     "execution_count": 4,
     "metadata": {},
     "output_type": "execute_result"
    }
   ],
   "source": [
    "q_plu = \"\"\"\n",
    "SELECT DISTINCT MPA_PLU, MPA_DESC FROM MASTER_PLU_ALFAGIFT mpa\n",
    "where lower(mpa.MPA_DESC) like '%sgm eksplor%'\n",
    "\"\"\"\n",
    "\n",
    "df_plu = pd.read_sql_query(q_plu, connection)     \n",
    "li_plu = df_plu['MPA_PLU']\n",
    "\n",
    "\n",
    "df_all = []\n",
    "for plu in li_plu[0:20]:\n",
    "    df = pd.DataFrame(mycol.find({'TR_PLU_PCS':plu}))\n",
    "    df_all.append(df)\n",
    "\n",
    "df_seq_1 = pd.concat(df_all)\n",
    "df_seq_1.head()"
   ]
  },
  {
   "cell_type": "code",
   "execution_count": null,
   "metadata": {},
   "outputs": [],
   "source": [
    "q_plu = \"\"\"\n",
    "SELECT DISTINCT MPA_PLU, MPA_DESC FROM MASTER_PLU_ALFAGIFT mpa\n",
    "where lower(mpa.MPA_DESC) like '%uht%'\n",
    "\"\"\"\n",
    "\n",
    "df_plu = pd.read_sql_query(q_plu, connection)     \n",
    "li_plu = df_plu['MPA_PLU']\n",
    "\n",
    "\n",
    "df_all = []\n",
    "for plu in li_plu[0:20]:\n",
    "    df = pd.DataFrame(mycol.find({'TR_PLU_PCS':plu}))\n",
    "    df_all.append(df)\n",
    "\n",
    "df_seq_2 = pd.concat(df_all)\n",
    "df_seq_2.head()"
   ]
  },
  {
   "cell_type": "code",
   "execution_count": null,
   "metadata": {},
   "outputs": [],
   "source": [
    "df_seq = pd.concat([df_seq_1, df_seq_2]).reset_index(drop=True)"
   ]
  },
  {
   "cell_type": "code",
   "execution_count": null,
   "metadata": {},
   "outputs": [],
   "source": [
    "q_nas = \"\"\"\n",
    "SELECT ITEM_N, DESCP, UKURAN, PANJANG, LEBAR, TINGGI FROM MASTER_NAS_M mnm \n",
    "\"\"\"\n",
    "\n",
    "df_nas = pd.read_sql_query(q_nas, connection)\n",
    "df_nas.head()"
   ]
  },
  {
   "cell_type": "code",
   "execution_count": null,
   "metadata": {},
   "outputs": [],
   "source": [
    "df = pd.merge(df_seq, df_nas, left_on='TR_PLU_PCS', right_on='ITEM_N')[list(df_seq) + ['DESCP','UKURAN']]\n",
    "df = df[df['TRX_DATE'].notnull()]\n",
    "df_hist = df[df['TRX_DATE'].apply(lambda x: len(x)) >= 6]"
   ]
  },
  {
   "cell_type": "code",
   "execution_count": null,
   "metadata": {},
   "outputs": [],
   "source": [
    "def cal_feature(set_timestamp):\n",
    "\n",
    "    set_timestamp = sorted(set_timestamp.items())\n",
    "    last_order = int(set_timestamp[-1][0])\n",
    "    \n",
    "    li_seq = []\n",
    "    for idx in range(0, len(set_timestamp)-1, 1):\n",
    "\n",
    "        diff = int(set_timestamp[idx+1][0]) - int(set_timestamp[idx][0])\n",
    "        diff_day = int((diff / 3600) / 24)\n",
    "        li_seq.append(diff_day)\n",
    "        \n",
    "    \n",
    "\n",
    "    li_seq = li_seq[-5:]\n",
    "    # max diff day\n",
    "    seq_max = np.max(li_seq)\n",
    "    # min diff day\n",
    "    seq_min = np.min(li_seq)\n",
    "    # day since\n",
    "    seq_since = li_seq[-2]\n",
    "    # mean\n",
    "    seq_mean = round(np.mean(li_seq),2)\n",
    "    # variance\n",
    "    seq_var = round(np.var(li_seq),2)\n",
    "\n",
    "    ## appending\n",
    "    li_seq.append(seq_max)\n",
    "    li_seq.append(seq_min)\n",
    "    li_seq.append(seq_since)\n",
    "    li_seq.append(seq_mean)\n",
    "    li_seq.append(seq_var)\n",
    "\n",
    "\n",
    "    return li_seq, last_order"
   ]
  },
  {
   "cell_type": "code",
   "execution_count": null,
   "metadata": {},
   "outputs": [],
   "source": [
    "df_hist['tr_date_seq'], df_hist['last_ord1er'] = zip(*df_hist['TRX_DATE'].apply(cal_feature))"
   ]
  },
  {
   "cell_type": "code",
   "execution_count": null,
   "metadata": {},
   "outputs": [],
   "source": [
    "col_feature = ['t_5', 't_4', 't_3', 't_2', 't_1', 'max', 'min', 'since', 'mean', 'variance']\n",
    "train = pd.DataFrame(df_hist.tr_date_seq.tolist(), index=df_hist.index, columns=col_feature)\n",
    "\n",
    "# X = train.drop('t_0', 1)\n",
    "# Y = train['t_0']\n",
    "\n",
    "# from sklearn.model_selection import train_test_split\n",
    "# X_train, X_test, y_train, y_test = train_test_split(X, Y, test_size=0.3)"
   ]
  },
  {
   "cell_type": "code",
   "execution_count": null,
   "metadata": {},
   "outputs": [],
   "source": []
  },
  {
   "cell_type": "code",
   "execution_count": null,
   "metadata": {},
   "outputs": [],
   "source": []
  },
  {
   "cell_type": "code",
   "execution_count": null,
   "metadata": {},
   "outputs": [],
   "source": []
  },
  {
   "cell_type": "markdown",
   "metadata": {},
   "source": [
    "### Compare time consuming in different netto\n",
    "> \n",
    "* first we user with less variance, we assume user buy based on their consumption and less affected by promotion or random purchase date\n",
    "* age might be affect consumption, cause more mature, amount of consumption should be decreased by parent"
   ]
  },
  {
   "cell_type": "code",
   "execution_count": null,
   "metadata": {},
   "outputs": [],
   "source": [
    "# with open('watchlist_item.txt') as f:\n",
    "#     watchlist = f.read().splitlines()\n",
    "#     df_watchlist = pd.DataFrame({'DESCP':watchlist})"
   ]
  },
  {
   "cell_type": "code",
   "execution_count": null,
   "metadata": {},
   "outputs": [],
   "source": [
    "train_descp = pd.concat([train,df_hist], 1)[col_feature + ['TR_MEMBERS', 'DESCP', 'TRX_DATE', 'UKURAN']]\n",
    "# train_descp = pd.merge(df_watchlist, train_descp, left_on='DESCP', right_on='DESCP', how='left')\n",
    "train_descp = train_descp[train_descp['UKURAN'].notnull()]\n",
    "train_descp['UKURAN'] = train_descp['UKURAN'].astype(int)"
   ]
  },
  {
   "cell_type": "code",
   "execution_count": null,
   "metadata": {},
   "outputs": [],
   "source": [
    "# train_descp['DESCP_NET'] = train_descp['DESCP'].str.split(' ').str[-1]"
   ]
  },
  {
   "cell_type": "code",
   "execution_count": null,
   "metadata": {},
   "outputs": [],
   "source": [
    "train_descp.groupby('UKURAN').agg({'mean':'mean'})"
   ]
  },
  {
   "cell_type": "code",
   "execution_count": null,
   "metadata": {},
   "outputs": [],
   "source": [
    "train_descp_cond = train_descp[train_descp['variance'] < 100]\n",
    "# display(train_descp_cond.head(3))\n",
    "train_descp_cond.groupby('UKURAN').agg({'mean':'mean'})"
   ]
  },
  {
   "cell_type": "code",
   "execution_count": null,
   "metadata": {},
   "outputs": [],
   "source": [
    "train_descp['DESCP_TYPE'] = train_descp['DESCP'].str.split(' ').str[0:3].str.join(' ')"
   ]
  },
  {
   "cell_type": "code",
   "execution_count": null,
   "metadata": {},
   "outputs": [],
   "source": [
    "train_descp.groupby(['DESCP_TYPE','UKURAN']).agg({'mean':'mean'})"
   ]
  },
  {
   "cell_type": "code",
   "execution_count": null,
   "metadata": {},
   "outputs": [],
   "source": [
    "train_descp_cond = train_descp[train_descp['variance'] < 80]\n",
    "# display(train_descp_cond.head(3))\n",
    "train_descp_cond.groupby(['DESCP_TYPE','UKURAN']).agg({'mean':'mean'})"
   ]
  },
  {
   "cell_type": "code",
   "execution_count": null,
   "metadata": {},
   "outputs": [],
   "source": []
  },
  {
   "cell_type": "code",
   "execution_count": null,
   "metadata": {},
   "outputs": [],
   "source": []
  },
  {
   "cell_type": "code",
   "execution_count": null,
   "metadata": {},
   "outputs": [],
   "source": []
  },
  {
   "cell_type": "code",
   "execution_count": null,
   "metadata": {},
   "outputs": [],
   "source": []
  }
 ],
 "metadata": {
  "kernelspec": {
   "display_name": "Python 3",
   "language": "python",
   "name": "python3"
  },
  "language_info": {
   "codemirror_mode": {
    "name": "ipython",
    "version": 3
   },
   "file_extension": ".py",
   "mimetype": "text/x-python",
   "name": "python",
   "nbconvert_exporter": "python",
   "pygments_lexer": "ipython3",
   "version": "3.8.5"
  }
 },
 "nbformat": 4,
 "nbformat_minor": 2
}
